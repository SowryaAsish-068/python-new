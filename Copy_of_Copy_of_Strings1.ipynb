{
  "nbformat": 4,
  "nbformat_minor": 0,
  "metadata": {
    "colab": {
      "name": "Copy of Copy of Strings1.ipynb",
      "provenance": [],
      "include_colab_link": true
    },
    "kernelspec": {
      "name": "python3",
      "display_name": "Python 3"
    },
    "language_info": {
      "name": "python"
    }
  },
  "cells": [
    {
      "cell_type": "markdown",
      "metadata": {
        "id": "view-in-github",
        "colab_type": "text"
      },
      "source": [
        "<a href=\"https://colab.research.google.com/github/SowryaAsish-068/python-new/blob/MODULE-1/Copy_of_Copy_of_Strings1.ipynb\" target=\"_parent\"><img src=\"https://colab.research.google.com/assets/colab-badge.svg\" alt=\"Open In Colab\"/></a>"
      ]
    },
    {
      "cell_type": "code",
      "execution_count": null,
      "metadata": {
        "colab": {
          "base_uri": "https://localhost:8080/"
        },
        "id": "yux0se0y-B9w",
        "outputId": "946cff82-7245-4caa-c8cd-66fc25a000ec"
      },
      "outputs": [
        {
          "output_type": "stream",
          "name": "stdout",
          "text": [
            "I am Prasanth I come from Visalakshinagar and I have a lab at 9am \n",
            "True\n"
          ]
        }
      ],
      "source": [
        "b=\"I am Prasanth I come from Visalakshinagar and I have a lab at 9am \"\n",
        "print(b)\n",
        "#check length\n",
        "len(b)\n"
      ]
    },
    {
      "cell_type": "code",
      "source": [
        "#Check string\n",
        "ppt=\"Gitam is a deemed university\"\n",
        "print(\"Gitam\" in ppt)"
      ],
      "metadata": {
        "colab": {
          "base_uri": "https://localhost:8080/"
        },
        "id": "U9A1Vz5oAXXn",
        "outputId": "519e207e-e7cf-4192-c594-4c4bc4d76a97"
      },
      "execution_count": null,
      "outputs": [
        {
          "output_type": "stream",
          "name": "stdout",
          "text": [
            "True\n"
          ]
        }
      ]
    },
    {
      "cell_type": "code",
      "source": [
        "#check string 2\n",
        "ppt=\"Gitam is a deemed university\"\n",
        "print(\"lake\" in ppt)"
      ],
      "metadata": {
        "colab": {
          "base_uri": "https://localhost:8080/"
        },
        "id": "Hy0tBDY2Aa-l",
        "outputId": "604c210a-3c84-4f33-8d0a-a79ddaa6cebb"
      },
      "execution_count": null,
      "outputs": [
        {
          "output_type": "stream",
          "name": "stdout",
          "text": [
            "False\n"
          ]
        }
      ]
    },
    {
      "cell_type": "code",
      "source": [
        "#check if not\n",
        "ppt=\"Gitam is a deemed university\"\n",
        "print(\"house\" not in ppt)\n",
        "print(\"Gitam\"  not in ppt)\n",
        "\n"
      ],
      "metadata": {
        "colab": {
          "base_uri": "https://localhost:8080/"
        },
        "id": "OMrc6NJxAdwN",
        "outputId": "8f2e1533-113f-4d4d-d988-5728bc4a29d4"
      },
      "execution_count": null,
      "outputs": [
        {
          "output_type": "stream",
          "name": "stdout",
          "text": [
            "True\n",
            "False\n"
          ]
        }
      ]
    },
    {
      "cell_type": "code",
      "source": [
        "#check if not\n",
        "ppt=\"Gitam is a deemed university\"\n",
        "print(\"\")"
      ],
      "metadata": {
        "id": "gSpWyWFTCBmn"
      },
      "execution_count": null,
      "outputs": []
    },
    {
      "cell_type": "code",
      "source": [
        "#slicing string\n",
        "#index:position\n",
        "n=\"Dog is in the rain\"\n",
        "print(n[4:7],n[-3:7])\n",
        "print(n[5:])"
      ],
      "metadata": {
        "colab": {
          "base_uri": "https://localhost:8080/"
        },
        "id": "aMCCuFrACtBv",
        "outputId": "f9e148a0-e0db-4027-d3b7-a3ab333a1bd1"
      },
      "execution_count": null,
      "outputs": [
        {
          "output_type": "stream",
          "name": "stdout",
          "text": [
            "is  \n",
            "s in the rain\n"
          ]
        }
      ]
    },
    {
      "cell_type": "code",
      "source": [
        "#Modifying string\n",
        "yet=\"peanut butter with jam\"\n",
        "print(yet[2:5].upper())\n",
        "print(yet.lower())"
      ],
      "metadata": {
        "colab": {
          "base_uri": "https://localhost:8080/"
        },
        "id": "1tdKdWyBGHt_",
        "outputId": "29372adb-fa37-44c0-d256-59e093cc30e4"
      },
      "execution_count": null,
      "outputs": [
        {
          "output_type": "stream",
          "name": "stdout",
          "text": [
            "EAN\n",
            " peanut butter with jam \n"
          ]
        }
      ]
    },
    {
      "cell_type": "code",
      "source": [
        "#Remove whitespace\n",
        "kite=\" Fried chicken is the best \"\n",
        "print(kite.strip())"
      ],
      "metadata": {
        "colab": {
          "base_uri": "https://localhost:8080/"
        },
        "id": "j4umcwYLHYvv",
        "outputId": "5c2727a4-c750-4456-e9d9-60c22b08f6c6"
      },
      "execution_count": null,
      "outputs": [
        {
          "output_type": "stream",
          "name": "stdout",
          "text": [
            "Fried chicken is the best\n"
          ]
        }
      ]
    },
    {
      "cell_type": "code",
      "source": [
        "#Replacing letter\n",
        "ult=\"Kick the butt in the behind butt\"\n",
        "print(ult.replace(\"butt\",\"chicken\"))"
      ],
      "metadata": {
        "colab": {
          "base_uri": "https://localhost:8080/"
        },
        "id": "XvOMOtIHIl9X",
        "outputId": "72905ab2-0378-439e-8f8b-737632970a7d"
      },
      "execution_count": null,
      "outputs": [
        {
          "output_type": "stream",
          "name": "stdout",
          "text": [
            "Kick the chicken in the behind chicken\n"
          ]
        }
      ]
    },
    {
      "cell_type": "code",
      "source": [
        "#splitting string\n",
        "cute=\"The rohit in the street was a whore\"\n",
        "print(cute.split(\",\"))"
      ],
      "metadata": {
        "colab": {
          "base_uri": "https://localhost:8080/"
        },
        "id": "dpaLnIwxJlMu",
        "outputId": "ba9dd39d-aabf-4ce2-a017-1c14b91f438b"
      },
      "execution_count": null,
      "outputs": [
        {
          "output_type": "stream",
          "name": "stdout",
          "text": [
            "['The rohit in the street was a whore']\n"
          ]
        }
      ]
    },
    {
      "cell_type": "code",
      "source": [
        "#concatination of strings\n",
        "tem=\"rite\"\n",
        "jet= \"hite\"\n",
        "fat=tem+jet\n",
        "print(fat)"
      ],
      "metadata": {
        "colab": {
          "base_uri": "https://localhost:8080/"
        },
        "id": "CY27xFO3JyvL",
        "outputId": "7a618f69-c9cf-4d5c-e47b-ac6118f31bd3"
      },
      "execution_count": null,
      "outputs": [
        {
          "output_type": "stream",
          "name": "stdout",
          "text": [
            "ritehite\n"
          ]
        }
      ]
    },
    {
      "cell_type": "code",
      "source": [
        "#format string\n",
        "alt=69\n",
        "yo=\"rohit's \\n favorite is the {}\"\n",
        "print(yo.format(alt))"
      ],
      "metadata": {
        "colab": {
          "base_uri": "https://localhost:8080/"
        },
        "id": "zl24XKb1NkgD",
        "outputId": "94f230c7-0f97-440b-dd8e-750b269f39de"
      },
      "execution_count": null,
      "outputs": [
        {
          "output_type": "stream",
          "name": "stdout",
          "text": [
            "rohit's \n",
            " favorite is the 69\n"
          ]
        }
      ]
    },
    {
      "cell_type": "code",
      "source": [
        ""
      ],
      "metadata": {
        "id": "1yqP-g5-P0zL"
      },
      "execution_count": null,
      "outputs": []
    }
  ]
}