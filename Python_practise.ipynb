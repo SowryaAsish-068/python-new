{
  "nbformat": 4,
  "nbformat_minor": 0,
  "metadata": {
    "colab": {
      "name": "Python practise.ipynb",
      "provenance": [],
      "authorship_tag": "ABX9TyNaGev6sbxGGASoTh/GZ767",
      "include_colab_link": true
    },
    "kernelspec": {
      "name": "python3",
      "display_name": "Python 3"
    },
    "language_info": {
      "name": "python"
    }
  },
  "cells": [
    {
      "cell_type": "markdown",
      "metadata": {
        "id": "view-in-github",
        "colab_type": "text"
      },
      "source": [
        "<a href=\"https://colab.research.google.com/github/SowryaAsish-068/python-new/blob/MODULE-2/Python_practise.ipynb\" target=\"_parent\"><img src=\"https://colab.research.google.com/assets/colab-badge.svg\" alt=\"Open In Colab\"/></a>"
      ]
    },
    {
      "cell_type": "code",
      "execution_count": null,
      "metadata": {
        "colab": {
          "base_uri": "https://localhost:8080/"
        },
        "id": "A2SHigiRPnoq",
        "outputId": "c61bc354-98d0-4bed-f027-ef08f831aefc"
      },
      "outputs": [
        {
          "output_type": "stream",
          "name": "stdout",
          "text": [
            "11\n"
          ]
        }
      ],
      "source": [
        "a=10\n",
        "b=1\n",
        "c=a+b\n",
        "print(c)"
      ]
    },
    {
      "cell_type": "code",
      "source": [
        "#eligibility for voting\n",
        "age=21\n",
        "if age>=18:\n",
        "  print(\"eligible\")\n",
        "else:\n",
        "  printf(\"not eligible\") "
      ],
      "metadata": {
        "colab": {
          "base_uri": "https://localhost:8080/"
        },
        "id": "PeEwZdUIRdJQ",
        "outputId": "2b936532-3d2d-405f-bc67-28e59b4131a2"
      },
      "execution_count": null,
      "outputs": [
        {
          "output_type": "stream",
          "name": "stdout",
          "text": [
            "eligible\n"
          ]
        }
      ]
    },
    {
      "cell_type": "code",
      "source": [
        "#eligibility for voting dynamic\n",
        "age=int(input(\"enter age:\"))\n",
        "if age>=18:\n",
        "  print(\"eligible\")\n",
        "else:\n",
        "  printf(\"not eligible\") \n"
      ],
      "metadata": {
        "colab": {
          "base_uri": "https://localhost:8080/"
        },
        "id": "DKzx-zVMSVmN",
        "outputId": "55a0f242-a298-47ca-8e49-98791451b0d2"
      },
      "execution_count": null,
      "outputs": [
        {
          "output_type": "stream",
          "name": "stdout",
          "text": [
            "enter age:22\n",
            "eligible\n"
          ]
        }
      ]
    },
    {
      "cell_type": "code",
      "source": [
        "#max of three numbers\n",
        "num1=int(input(\"enter num1: \"))\n",
        "num2=int(input(\"enter num2: \"))\n",
        "num3=int(input(\"enter num3: \"))\n",
        "if num1>num2 and num1>num3:\n",
        "  print(\"num1 is greater\")\n",
        "elif num2>num1 and num2>num3: \n",
        "  print(\"num2 is greater\")\n",
        "else:\n",
        "   print(\"num3 is greater\") "
      ],
      "metadata": {
        "colab": {
          "base_uri": "https://localhost:8080/"
        },
        "id": "lLX90hrnT6qG",
        "outputId": "ddfac75b-f994-4a8d-dbf1-7a61a46bbd4d"
      },
      "execution_count": null,
      "outputs": [
        {
          "output_type": "stream",
          "name": "stdout",
          "text": [
            "enter num1: 2\n",
            "enter num2: 5\n",
            "enter num3: 9\n",
            "num3 is greater\n"
          ]
        }
      ]
    },
    {
      "cell_type": "code",
      "source": [
        "#compare five subjects marks\n",
        "phy=int(input(\"enter phy marks: \"))\n",
        "chem=int(input(\"enter chem marks: \"))\n",
        "soc=int(input(\"enter soc marks: \"))\n",
        "beee=int(input(\"enter beee marks: \"))\n",
        "cse=int(input(\"enter cse marks: \"))\n",
        "if phy>chem and phy>beee and phy>cse:\n",
        "  print(\"phy marks are  greater\")\n",
        "elif phy>chem and phy>soc and phy>beee and phy>cse: \n",
        "  print(\"num2 is greater\")\n",
        "else:\n",
        "   print(\"num3 is greater\") "
      ],
      "metadata": {
        "colab": {
          "base_uri": "https://localhost:8080/"
        },
        "id": "IyIdXi9iV5xv",
        "outputId": "34d96246-ccd8-44a2-9d49-4985a0d56a2e"
      },
      "execution_count": null,
      "outputs": [
        {
          "output_type": "stream",
          "name": "stdout",
          "text": [
            "enter phy marks: 88\n",
            "enter chem marks: 44\n",
            "enter soc marks: 78\n",
            "enter beee marks: 78\n",
            "enter cse marks: 81\n",
            "phy marks are  greater\n"
          ]
        }
      ]
    },
    {
      "cell_type": "code",
      "source": [
        "#Check whether the triangle is equilateral, isosceles, or scalene triangle.\n",
        "s1=int(input(\"enter side 1: \"))\n",
        "s2=int(input(\"enter side 2: \"))\n",
        "s3=int(input(\"enter side 3: \"))\n",
        "if s1==s2==s3:\n",
        "  print(\"equilateral traingle\")\n",
        "elif s1!=s2 and s2!=s3:\n",
        "  print(\"scalene triangle\")\n",
        "elif s1==s2 and s2!=s3 or s2==s3 and s3!=s1 and s1!=s2:\n",
        "  print(\"isosceles triangle\")\n"
      ],
      "metadata": {
        "colab": {
          "base_uri": "https://localhost:8080/"
        },
        "id": "EbrM9AUUY4s4",
        "outputId": "359e6a25-f388-4d3b-a98a-e5ebfe061bcb"
      },
      "execution_count": null,
      "outputs": [
        {
          "output_type": "stream",
          "name": "stdout",
          "text": [
            "enter side 1: 10\n",
            "enter side 2: 9\n",
            "enter side 3: 8\n",
            "scalene triangle\n"
          ]
        }
      ]
    }
  ]
}